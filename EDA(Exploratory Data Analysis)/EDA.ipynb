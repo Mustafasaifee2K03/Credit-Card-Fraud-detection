{
 "cells": [
  {
   "cell_type": "code",
   "execution_count": null,
   "id": "42b251a5",
   "metadata": {},
   "outputs": [],
   "source": []
  },
  {
   "cell_type": "markdown",
   "id": "ab643e86",
   "metadata": {},
   "source": [
    "This is the jupyter Notebook for the Exploratory Data Analysis of the dataset. The cell below imports all the necessary libraries for the same"
   ]
  },
  {
   "cell_type": "code",
   "execution_count": 1,
   "id": "35b12331",
   "metadata": {},
   "outputs": [],
   "source": [
    "import pandas as pd\n",
    "import matplotlib.pyplot as plt\n",
    "import seaborn as sns"
   ]
  },
  {
   "cell_type": "code",
   "execution_count": 2,
   "id": "f16513f5",
   "metadata": {},
   "outputs": [],
   "source": [
    "# assuming \"df\" is the variable name for the Dataframe \n",
    "df=pd.read_csv(\"E:\\codeclause DS internship\\credit card fraud detection\\dataset\\dataset.csv\")"
   ]
  },
  {
   "cell_type": "code",
   "execution_count": 3,
   "id": "c7b0004f",
   "metadata": {},
   "outputs": [
    {
     "data": {
      "text/plain": [
       "(1000000, 8)"
      ]
     },
     "execution_count": 3,
     "metadata": {},
     "output_type": "execute_result"
    }
   ],
   "source": [
    "df.shape"
   ]
  },
  {
   "cell_type": "markdown",
   "id": "91b3a19e",
   "metadata": {},
   "source": [
    "As the data is very large, we need to randomly select the tuples from the data "
   ]
  },
  {
   "cell_type": "code",
   "execution_count": 4,
   "id": "ea3f1dfb",
   "metadata": {},
   "outputs": [
    {
     "data": {
      "text/html": [
       "<div>\n",
       "<style scoped>\n",
       "    .dataframe tbody tr th:only-of-type {\n",
       "        vertical-align: middle;\n",
       "    }\n",
       "\n",
       "    .dataframe tbody tr th {\n",
       "        vertical-align: top;\n",
       "    }\n",
       "\n",
       "    .dataframe thead th {\n",
       "        text-align: right;\n",
       "    }\n",
       "</style>\n",
       "<table border=\"1\" class=\"dataframe\">\n",
       "  <thead>\n",
       "    <tr style=\"text-align: right;\">\n",
       "      <th></th>\n",
       "      <th>distance_from_home</th>\n",
       "      <th>distance_from_last_transaction</th>\n",
       "      <th>ratio_to_median_purchase_price</th>\n",
       "      <th>repeat_retailer</th>\n",
       "      <th>used_chip</th>\n",
       "      <th>used_pin_number</th>\n",
       "      <th>online_order</th>\n",
       "      <th>fraud</th>\n",
       "    </tr>\n",
       "  </thead>\n",
       "  <tbody>\n",
       "    <tr>\n",
       "      <th>0</th>\n",
       "      <td>57.877857</td>\n",
       "      <td>0.311140</td>\n",
       "      <td>1.945940</td>\n",
       "      <td>1</td>\n",
       "      <td>1</td>\n",
       "      <td>0</td>\n",
       "      <td>0</td>\n",
       "      <td>0</td>\n",
       "    </tr>\n",
       "    <tr>\n",
       "      <th>1</th>\n",
       "      <td>10.829943</td>\n",
       "      <td>0.175592</td>\n",
       "      <td>1.294219</td>\n",
       "      <td>1</td>\n",
       "      <td>0</td>\n",
       "      <td>0</td>\n",
       "      <td>0</td>\n",
       "      <td>0</td>\n",
       "    </tr>\n",
       "    <tr>\n",
       "      <th>2</th>\n",
       "      <td>5.091079</td>\n",
       "      <td>0.805153</td>\n",
       "      <td>0.427715</td>\n",
       "      <td>1</td>\n",
       "      <td>0</td>\n",
       "      <td>0</td>\n",
       "      <td>1</td>\n",
       "      <td>0</td>\n",
       "    </tr>\n",
       "    <tr>\n",
       "      <th>3</th>\n",
       "      <td>2.247564</td>\n",
       "      <td>5.600044</td>\n",
       "      <td>0.362663</td>\n",
       "      <td>1</td>\n",
       "      <td>1</td>\n",
       "      <td>0</td>\n",
       "      <td>1</td>\n",
       "      <td>0</td>\n",
       "    </tr>\n",
       "    <tr>\n",
       "      <th>4</th>\n",
       "      <td>44.190936</td>\n",
       "      <td>0.566486</td>\n",
       "      <td>2.222767</td>\n",
       "      <td>1</td>\n",
       "      <td>1</td>\n",
       "      <td>0</td>\n",
       "      <td>1</td>\n",
       "      <td>0</td>\n",
       "    </tr>\n",
       "  </tbody>\n",
       "</table>\n",
       "</div>"
      ],
      "text/plain": [
       "   distance_from_home  distance_from_last_transaction   \n",
       "0           57.877857                        0.311140  \\\n",
       "1           10.829943                        0.175592   \n",
       "2            5.091079                        0.805153   \n",
       "3            2.247564                        5.600044   \n",
       "4           44.190936                        0.566486   \n",
       "\n",
       "   ratio_to_median_purchase_price  repeat_retailer  used_chip   \n",
       "0                        1.945940                1          1  \\\n",
       "1                        1.294219                1          0   \n",
       "2                        0.427715                1          0   \n",
       "3                        0.362663                1          1   \n",
       "4                        2.222767                1          1   \n",
       "\n",
       "   used_pin_number  online_order  fraud  \n",
       "0                0             0      0  \n",
       "1                0             0      0  \n",
       "2                0             1      0  \n",
       "3                0             1      0  \n",
       "4                0             1      0  "
      ]
     },
     "execution_count": 4,
     "metadata": {},
     "output_type": "execute_result"
    }
   ],
   "source": [
    "df.head()"
   ]
  },
  {
   "cell_type": "code",
   "execution_count": 5,
   "id": "2b47354e",
   "metadata": {},
   "outputs": [],
   "source": [
    "# Separate the dataset into two parts based on 'fraud' column: fraudulent and non-fraudulent\n",
    "fraudulent_data = df[df['fraud'] == 1]\n",
    "non_fraudulent_data = df[df['fraud'] == 0]\n",
    "\n",
    "# Randomly select tuples from each class\n",
    "sample_size_for_fraudulent = 17000\n",
    "fraudulent_sample = fraudulent_data.sample(n=sample_size_for_fraudulent, random_state=42)\n",
    "non_fraudulent_sample = non_fraudulent_data.sample(n=(150000-sample_size_for_fraudulent), random_state=42)\n",
    "\n",
    "# Concatenate the two samples to get the final random subset of tuples\n",
    "random_sample = pd.concat([fraudulent_sample, non_fraudulent_sample], axis=0)\n",
    "\n",
    "# Shuffle the subset to ensure the tuples are randomly arranged\n",
    "random_sample = random_sample.sample(frac=1, random_state=42)\n",
    "\n",
    "# 'random_sample' contains your stratified random subset of tuples\n"
   ]
  },
  {
   "cell_type": "code",
   "execution_count": 6,
   "id": "84d22ac2",
   "metadata": {},
   "outputs": [],
   "source": [
    "df=random_sample"
   ]
  },
  {
   "cell_type": "code",
   "execution_count": 7,
   "id": "14ad273d",
   "metadata": {},
   "outputs": [
    {
     "data": {
      "text/plain": [
       "(150000, 8)"
      ]
     },
     "execution_count": 7,
     "metadata": {},
     "output_type": "execute_result"
    }
   ],
   "source": [
    "df.shape"
   ]
  },
  {
   "cell_type": "code",
   "execution_count": 8,
   "id": "edb605bf",
   "metadata": {},
   "outputs": [
    {
     "data": {
      "text/plain": [
       "(133000, 8)"
      ]
     },
     "execution_count": 8,
     "metadata": {},
     "output_type": "execute_result"
    }
   ],
   "source": [
    "df[df['fraud']==0].shape"
   ]
  },
  {
   "cell_type": "code",
   "execution_count": 9,
   "id": "eeb8601d",
   "metadata": {},
   "outputs": [
    {
     "data": {
      "text/html": [
       "<div>\n",
       "<style scoped>\n",
       "    .dataframe tbody tr th:only-of-type {\n",
       "        vertical-align: middle;\n",
       "    }\n",
       "\n",
       "    .dataframe tbody tr th {\n",
       "        vertical-align: top;\n",
       "    }\n",
       "\n",
       "    .dataframe thead th {\n",
       "        text-align: right;\n",
       "    }\n",
       "</style>\n",
       "<table border=\"1\" class=\"dataframe\">\n",
       "  <thead>\n",
       "    <tr style=\"text-align: right;\">\n",
       "      <th></th>\n",
       "      <th>distance_from_home</th>\n",
       "      <th>distance_from_last_transaction</th>\n",
       "      <th>ratio_to_median_purchase_price</th>\n",
       "      <th>repeat_retailer</th>\n",
       "      <th>used_chip</th>\n",
       "      <th>used_pin_number</th>\n",
       "      <th>online_order</th>\n",
       "      <th>fraud</th>\n",
       "    </tr>\n",
       "  </thead>\n",
       "  <tbody>\n",
       "    <tr>\n",
       "      <th>835517</th>\n",
       "      <td>7.893140</td>\n",
       "      <td>0.510965</td>\n",
       "      <td>0.969661</td>\n",
       "      <td>1</td>\n",
       "      <td>1</td>\n",
       "      <td>0</td>\n",
       "      <td>0</td>\n",
       "      <td>0</td>\n",
       "    </tr>\n",
       "    <tr>\n",
       "      <th>259207</th>\n",
       "      <td>23.734634</td>\n",
       "      <td>11.666175</td>\n",
       "      <td>0.320543</td>\n",
       "      <td>1</td>\n",
       "      <td>1</td>\n",
       "      <td>0</td>\n",
       "      <td>1</td>\n",
       "      <td>0</td>\n",
       "    </tr>\n",
       "    <tr>\n",
       "      <th>896246</th>\n",
       "      <td>6.353481</td>\n",
       "      <td>0.811991</td>\n",
       "      <td>3.219114</td>\n",
       "      <td>1</td>\n",
       "      <td>0</td>\n",
       "      <td>0</td>\n",
       "      <td>0</td>\n",
       "      <td>0</td>\n",
       "    </tr>\n",
       "    <tr>\n",
       "      <th>279016</th>\n",
       "      <td>20.415958</td>\n",
       "      <td>7.903057</td>\n",
       "      <td>0.493067</td>\n",
       "      <td>1</td>\n",
       "      <td>0</td>\n",
       "      <td>0</td>\n",
       "      <td>0</td>\n",
       "      <td>0</td>\n",
       "    </tr>\n",
       "    <tr>\n",
       "      <th>231673</th>\n",
       "      <td>40.799868</td>\n",
       "      <td>0.077366</td>\n",
       "      <td>1.771473</td>\n",
       "      <td>1</td>\n",
       "      <td>0</td>\n",
       "      <td>0</td>\n",
       "      <td>0</td>\n",
       "      <td>0</td>\n",
       "    </tr>\n",
       "  </tbody>\n",
       "</table>\n",
       "</div>"
      ],
      "text/plain": [
       "        distance_from_home  distance_from_last_transaction   \n",
       "835517            7.893140                        0.510965  \\\n",
       "259207           23.734634                       11.666175   \n",
       "896246            6.353481                        0.811991   \n",
       "279016           20.415958                        7.903057   \n",
       "231673           40.799868                        0.077366   \n",
       "\n",
       "        ratio_to_median_purchase_price  repeat_retailer  used_chip   \n",
       "835517                        0.969661                1          1  \\\n",
       "259207                        0.320543                1          1   \n",
       "896246                        3.219114                1          0   \n",
       "279016                        0.493067                1          0   \n",
       "231673                        1.771473                1          0   \n",
       "\n",
       "        used_pin_number  online_order  fraud  \n",
       "835517                0             0      0  \n",
       "259207                0             1      0  \n",
       "896246                0             0      0  \n",
       "279016                0             0      0  \n",
       "231673                0             0      0  "
      ]
     },
     "execution_count": 9,
     "metadata": {},
     "output_type": "execute_result"
    }
   ],
   "source": [
    "df.head()"
   ]
  },
  {
   "cell_type": "code",
   "execution_count": 10,
   "id": "296e028f",
   "metadata": {},
   "outputs": [
    {
     "name": "stdout",
     "output_type": "stream",
     "text": [
      "<class 'pandas.core.frame.DataFrame'>\n",
      "Index: 150000 entries, 835517 to 724924\n",
      "Data columns (total 8 columns):\n",
      " #   Column                          Non-Null Count   Dtype  \n",
      "---  ------                          --------------   -----  \n",
      " 0   distance_from_home              150000 non-null  float64\n",
      " 1   distance_from_last_transaction  150000 non-null  float64\n",
      " 2   ratio_to_median_purchase_price  150000 non-null  float64\n",
      " 3   repeat_retailer                 150000 non-null  int64  \n",
      " 4   used_chip                       150000 non-null  int64  \n",
      " 5   used_pin_number                 150000 non-null  int64  \n",
      " 6   online_order                    150000 non-null  int64  \n",
      " 7   fraud                           150000 non-null  int64  \n",
      "dtypes: float64(3), int64(5)\n",
      "memory usage: 10.3 MB\n"
     ]
    }
   ],
   "source": [
    "df.info()"
   ]
  },
  {
   "cell_type": "code",
   "execution_count": 11,
   "id": "7c14aa30",
   "metadata": {},
   "outputs": [
    {
     "data": {
      "text/html": [
       "<div>\n",
       "<style scoped>\n",
       "    .dataframe tbody tr th:only-of-type {\n",
       "        vertical-align: middle;\n",
       "    }\n",
       "\n",
       "    .dataframe tbody tr th {\n",
       "        vertical-align: top;\n",
       "    }\n",
       "\n",
       "    .dataframe thead th {\n",
       "        text-align: right;\n",
       "    }\n",
       "</style>\n",
       "<table border=\"1\" class=\"dataframe\">\n",
       "  <thead>\n",
       "    <tr style=\"text-align: right;\">\n",
       "      <th></th>\n",
       "      <th>distance_from_home</th>\n",
       "      <th>distance_from_last_transaction</th>\n",
       "      <th>ratio_to_median_purchase_price</th>\n",
       "      <th>repeat_retailer</th>\n",
       "      <th>used_chip</th>\n",
       "      <th>used_pin_number</th>\n",
       "      <th>online_order</th>\n",
       "      <th>fraud</th>\n",
       "    </tr>\n",
       "  </thead>\n",
       "  <tbody>\n",
       "    <tr>\n",
       "      <th>count</th>\n",
       "      <td>150000.000000</td>\n",
       "      <td>150000.000000</td>\n",
       "      <td>150000.000000</td>\n",
       "      <td>150000.000000</td>\n",
       "      <td>150000.000000</td>\n",
       "      <td>150000.000000</td>\n",
       "      <td>150000.000000</td>\n",
       "      <td>150000.000000</td>\n",
       "    </tr>\n",
       "    <tr>\n",
       "      <th>mean</th>\n",
       "      <td>27.877809</td>\n",
       "      <td>5.345776</td>\n",
       "      <td>1.949285</td>\n",
       "      <td>0.881193</td>\n",
       "      <td>0.347013</td>\n",
       "      <td>0.098313</td>\n",
       "      <td>0.659307</td>\n",
       "      <td>0.113333</td>\n",
       "    </tr>\n",
       "    <tr>\n",
       "      <th>std</th>\n",
       "      <td>71.601334</td>\n",
       "      <td>27.701070</td>\n",
       "      <td>3.013862</td>\n",
       "      <td>0.323562</td>\n",
       "      <td>0.476022</td>\n",
       "      <td>0.297739</td>\n",
       "      <td>0.473944</td>\n",
       "      <td>0.317001</td>\n",
       "    </tr>\n",
       "    <tr>\n",
       "      <th>min</th>\n",
       "      <td>0.024602</td>\n",
       "      <td>0.000118</td>\n",
       "      <td>0.006125</td>\n",
       "      <td>0.000000</td>\n",
       "      <td>0.000000</td>\n",
       "      <td>0.000000</td>\n",
       "      <td>0.000000</td>\n",
       "      <td>0.000000</td>\n",
       "    </tr>\n",
       "    <tr>\n",
       "      <th>25%</th>\n",
       "      <td>3.885694</td>\n",
       "      <td>0.294342</td>\n",
       "      <td>0.485000</td>\n",
       "      <td>1.000000</td>\n",
       "      <td>0.000000</td>\n",
       "      <td>0.000000</td>\n",
       "      <td>0.000000</td>\n",
       "      <td>0.000000</td>\n",
       "    </tr>\n",
       "    <tr>\n",
       "      <th>50%</th>\n",
       "      <td>10.022057</td>\n",
       "      <td>0.996105</td>\n",
       "      <td>1.030493</td>\n",
       "      <td>1.000000</td>\n",
       "      <td>0.000000</td>\n",
       "      <td>0.000000</td>\n",
       "      <td>1.000000</td>\n",
       "      <td>0.000000</td>\n",
       "    </tr>\n",
       "    <tr>\n",
       "      <th>75%</th>\n",
       "      <td>26.344547</td>\n",
       "      <td>3.391500</td>\n",
       "      <td>2.218319</td>\n",
       "      <td>1.000000</td>\n",
       "      <td>1.000000</td>\n",
       "      <td>0.000000</td>\n",
       "      <td>1.000000</td>\n",
       "      <td>0.000000</td>\n",
       "    </tr>\n",
       "    <tr>\n",
       "      <th>max</th>\n",
       "      <td>8777.136420</td>\n",
       "      <td>4968.315477</td>\n",
       "      <td>126.294930</td>\n",
       "      <td>1.000000</td>\n",
       "      <td>1.000000</td>\n",
       "      <td>1.000000</td>\n",
       "      <td>1.000000</td>\n",
       "      <td>1.000000</td>\n",
       "    </tr>\n",
       "  </tbody>\n",
       "</table>\n",
       "</div>"
      ],
      "text/plain": [
       "       distance_from_home  distance_from_last_transaction   \n",
       "count       150000.000000                   150000.000000  \\\n",
       "mean            27.877809                        5.345776   \n",
       "std             71.601334                       27.701070   \n",
       "min              0.024602                        0.000118   \n",
       "25%              3.885694                        0.294342   \n",
       "50%             10.022057                        0.996105   \n",
       "75%             26.344547                        3.391500   \n",
       "max           8777.136420                     4968.315477   \n",
       "\n",
       "       ratio_to_median_purchase_price  repeat_retailer      used_chip   \n",
       "count                   150000.000000    150000.000000  150000.000000  \\\n",
       "mean                         1.949285         0.881193       0.347013   \n",
       "std                          3.013862         0.323562       0.476022   \n",
       "min                          0.006125         0.000000       0.000000   \n",
       "25%                          0.485000         1.000000       0.000000   \n",
       "50%                          1.030493         1.000000       0.000000   \n",
       "75%                          2.218319         1.000000       1.000000   \n",
       "max                        126.294930         1.000000       1.000000   \n",
       "\n",
       "       used_pin_number   online_order          fraud  \n",
       "count    150000.000000  150000.000000  150000.000000  \n",
       "mean          0.098313       0.659307       0.113333  \n",
       "std           0.297739       0.473944       0.317001  \n",
       "min           0.000000       0.000000       0.000000  \n",
       "25%           0.000000       0.000000       0.000000  \n",
       "50%           0.000000       1.000000       0.000000  \n",
       "75%           0.000000       1.000000       0.000000  \n",
       "max           1.000000       1.000000       1.000000  "
      ]
     },
     "execution_count": 11,
     "metadata": {},
     "output_type": "execute_result"
    }
   ],
   "source": [
    "df.describe()"
   ]
  },
  {
   "cell_type": "markdown",
   "id": "db72d960",
   "metadata": {},
   "source": [
    "Data Visualization"
   ]
  },
  {
   "cell_type": "code",
   "execution_count": 12,
   "id": "1fcf972c",
   "metadata": {},
   "outputs": [
    {
     "data": {
      "image/png": "[encoded data removed]",
      "text/plain": [
       "<Figure size 640x480 with 1 Axes>"
      ]
     },
     "metadata": {},
     "output_type": "display_data"
    }
   ],
   "source": [
    "#for example, the histogram for distance from home featue\n",
    "plt.hist(df['distance_from_home'], bins=35)\n",
    "plt.xlabel('Distance from Home')\n",
    "plt.ylabel('Frequency')\n",
    "plt.title('Histogram of Distance from Home')\n",
    "plt.show()"
   ]
  },
  {
   "cell_type": "code",
   "execution_count": 13,
   "id": "af4f66ae",
   "metadata": {},
   "outputs": [
    {
     "data": {
      "image/png": "[encoded data removed]",
      "text/plain": [
       "<Figure size 640x480 with 1 Axes>"
      ]
     },
     "metadata": {},
     "output_type": "display_data"
    }
   ],
   "source": [
    "# now Ill construct a scatter plot between distance from home and distance from last transaction\n",
    "plt.scatter(df['distance_from_home'], df['distance_from_last_transaction'])\n",
    "plt.xlabel('Distance from Home')\n",
    "plt.ylabel('Distance from Last Transaction')\n",
    "plt.title('Scatter Plot')\n",
    "plt.show()"
   ]
  },
  {
   "cell_type": "code",
   "execution_count": 14,
   "id": "93012950",
   "metadata": {},
   "outputs": [
    {
     "data": {
      "image/png": "[encoded data removed]",
      "text/plain": [
       "<Figure size 640x480 with 1 Axes>"
      ]
     },
     "metadata": {},
     "output_type": "display_data"
    }
   ],
   "source": [
    "# Example: Bar plot of 'fraud'\n",
    "sns.countplot(x='fraud', data=df)\n",
    "plt.xlabel('Fraud')\n",
    "plt.ylabel('Count')\n",
    "plt.title('Bar Plot of Fraud')\n",
    "plt.show()"
   ]
  },
  {
   "cell_type": "code",
   "execution_count": 15,
   "id": "e2f59725",
   "metadata": {},
   "outputs": [
    {
     "data": {
      "text/plain": [
       "distance_from_home                0\n",
       "distance_from_last_transaction    0\n",
       "ratio_to_median_purchase_price    0\n",
       "repeat_retailer                   0\n",
       "used_chip                         0\n",
       "used_pin_number                   0\n",
       "online_order                      0\n",
       "fraud                             0\n",
       "dtype: int64"
      ]
     },
     "execution_count": 15,
     "metadata": {},
     "output_type": "execute_result"
    }
   ],
   "source": [
    "#check for missing values\n",
    "df.isnull().sum()"
   ]
  },
  {
   "cell_type": "markdown",
   "id": "d97aeec7",
   "metadata": {},
   "source": [
    "the dataset looks perfect"
   ]
  },
  {
   "cell_type": "code",
   "execution_count": null,
   "id": "c2cfff79",
   "metadata": {},
   "outputs": [],
   "source": []
  }
 ],
 "metadata": {
  "kernelspec": {
   "display_name": "Python 3 (ipykernel)",
   "language": "python",
   "name": "python3"
  },
  "language_info": {
   "codemirror_mode": {
    "name": "ipython",
    "version": 3
   },
   "file_extension": ".py",
   "mimetype": "text/x-python",
   "name": "python",
   "nbconvert_exporter": "python",
   "pygments_lexer": "ipython3",
   "version": "3.10.5"
  }
 },
 "nbformat": 4,
 "nbformat_minor": 5
}
